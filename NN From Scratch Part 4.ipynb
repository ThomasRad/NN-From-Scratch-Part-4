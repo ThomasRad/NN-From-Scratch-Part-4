{
 "cells": [
  {
   "cell_type": "markdown",
   "metadata": {},
   "source": [
    "# Following Along Tutorial"
   ]
  },
  {
   "cell_type": "markdown",
   "metadata": {},
   "source": [
    "### Using Classes to now set up the NN"
   ]
  },
  {
   "cell_type": "code",
   "execution_count": 2,
   "metadata": {},
   "outputs": [],
   "source": [
    "# Importing Numpy \n",
    "\n",
    "import numpy as np"
   ]
  },
  {
   "cell_type": "code",
   "execution_count": 4,
   "metadata": {},
   "outputs": [],
   "source": [
    "# Setting random seed \n",
    "\n",
    "np.random.seed(0)"
   ]
  },
  {
   "cell_type": "code",
   "execution_count": 1,
   "metadata": {},
   "outputs": [],
   "source": [
    "# Setting our inputs. \n",
    "\n",
    "X = [[1, 2, 3, 4],\n",
    "     [2, 4, 1, 0],\n",
    "     [0, -2, 1, -2]]"
   ]
  },
  {
   "cell_type": "code",
   "execution_count": 11,
   "metadata": {},
   "outputs": [],
   "source": [
    "# Setting up classes for the NN.\n",
    "\n",
    "class Layer_dense:\n",
    "    \n",
    "    def __init__(self, n_inputs,n_neurons):\n",
    "        \n",
    "        # intializing the weights. \n",
    "        self.weights = 0.1 * np.random.randn(n_inputs,n_neurons) \n",
    "        \n",
    "        # Initialize the biases.\n",
    "        self.biases = np.zeros((1,n_neurons))\n",
    "    \n",
    "    def forward(self,inputs):\n",
    "        \n",
    "        # Just combine the inputs with weights and biases.\n",
    "        self.output = np.dot(inputs, self.weights) + self.biases"
   ]
  },
  {
   "cell_type": "code",
   "execution_count": 16,
   "metadata": {},
   "outputs": [
    {
     "name": "stdout",
     "output_type": "stream",
     "text": [
      "[[-0.2512756   0.05955416  0.34991886  0.88530914 -0.25585366]\n",
      " [-0.62960089 -0.02588446  0.00335235  0.19638068 -0.00567848]\n",
      " [ 0.49641904  0.03999113  0.15040863 -0.55448862 -0.06636312]]\n",
      "[[-0.00351752  0.04041727]\n",
      " [ 0.06428252  0.02525265]\n",
      " [-0.07719795 -0.02559343]]\n"
     ]
    }
   ],
   "source": [
    "# Setting up the layers with our classes. \n",
    "\n",
    "layer1 = Layer_dense(4,5)\n",
    "layer2 = Layer_dense(5,2)\n",
    "\n",
    "# Now we do a forward pass. \n",
    "\n",
    "layer1.forward(X)\n",
    "\n",
    "# printing out the output of the forward pass. \n",
    "\n",
    "print(layer1.output)\n",
    "\n",
    "# Pass the output of layer one as input to layer 2 \n",
    "\n",
    "layer2.forward(layer1.output)\n",
    "\n",
    "# Print out the output.\n",
    "\n",
    "print(layer2.output)"
   ]
  }
 ],
 "metadata": {
  "kernelspec": {
   "display_name": "Python 3",
   "language": "python",
   "name": "python3"
  },
  "language_info": {
   "codemirror_mode": {
    "name": "ipython",
    "version": 3
   },
   "file_extension": ".py",
   "mimetype": "text/x-python",
   "name": "python",
   "nbconvert_exporter": "python",
   "pygments_lexer": "ipython3",
   "version": "3.7.6"
  }
 },
 "nbformat": 4,
 "nbformat_minor": 4
}
